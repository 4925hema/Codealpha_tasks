{
  "nbformat": 4,
  "nbformat_minor": 0,
  "metadata": {
    "colab": {
      "provenance": []
    },
    "kernelspec": {
      "name": "python3",
      "display_name": "Python 3"
    },
    "language_info": {
      "name": "python"
    }
  },
  "cells": [
    {
      "cell_type": "code",
      "execution_count": null,
      "metadata": {
        "id": "c4pMyPxtreqo"
      },
      "outputs": [],
      "source": [
        "from openai import OpenAI"
      ]
    },
    {
      "cell_type": "code",
      "source": [
        "import openai\n",
        "import datetime\n",
        "import pytz\n",
        "\n",
        "# Replace with your actual OpenAI API key\n",
        "openai.api_key = \"sk-8e2c8***********************d351\"\n",
        "\n",
        "def get_current_time_date():\n",
        "    india_timezone = pytz.timezone(\"Asia/Kolkata\")\n",
        "    now = datetime.datetime.now(india_timezone)\n",
        "    return now.strftime('%I:%M %p'), now.strftime('%B %d, %Y')\n",
        "\n",
        "def get_response_from_openai(user_input):\n",
        "    try:\n",
        "        messages = [\n",
        "            {\"role\": \"system\", \"content\": \"You are a helpful assistant named ChatPy.\"},\n",
        "            {\"role\": \"user\", \"content\": user_input}\n",
        "        ]\n",
        "\n",
        "        response = openai.ChatCompletion.create(\n",
        "            model=\"gpt-3.5-turbo\",\n",
        "            messages=messages,\n",
        "            temperature=0.7\n",
        "        )\n",
        "\n",
        "        return response.choices[0].message[\"content\"]\n",
        "    except Exception as e:\n",
        "        return f\"Error fetching response: {e}\"\n",
        "\n",
        "# Small chat board loop\n",
        "print(\"ChatPy: Hello! I'm ChatPy (OpenAI powered). Type 'bye' or 'exit' to quit.\")\n",
        "\n",
        "while True:\n",
        "    user_input = input(\"You: \")\n",
        "\n",
        "    if user_input.lower() in [\"bye\", \"exit\"]:\n",
        "        print(\"ChatPy: Goodbye! Have a great day!\")\n",
        "        break\n",
        "\n",
        "    elif \"time\" in user_input.lower():\n",
        "        time, _ = get_current_time_date()\n",
        "        print(f\"ChatPy: The current time in India is {time}.\")\n",
        "\n",
        "    elif \"date\" in user_input.lower():\n",
        "        _, date = get_current_time_date()\n",
        "        print(f\"ChatPy: Today's date in India is {date}.\")\n",
        "\n",
        "    else:\n",
        "        response = get_response_from_openai(user_input)\n",
        "        print(\"ChatPy:\", response)\n"
      ],
      "metadata": {
        "colab": {
          "base_uri": "https://localhost:8080/"
        },
        "id": "fRPkmejhsPQA",
        "outputId": "45a33537-d67a-400e-9660-450f07faf3e5"
      },
      "execution_count": null,
      "outputs": [
        {
          "output_type": "stream",
          "name": "stdout",
          "text": [
            "ChatPy: Hello! I'm ChatPy (OpenAI powered). Type 'bye' or 'exit' to quit.\n",
            "You: date\n",
            "ChatPy: Today's date in India is May 31, 2025.\n",
            "You: time\n",
            "ChatPy: The current time in India is 10:24 AM.\n",
            "You: quit\n",
            "ChatPy: Error fetching response: \n",
            "\n",
            "You tried to access openai.ChatCompletion, but this is no longer supported in openai>=1.0.0 - see the README at https://github.com/openai/openai-python for the API.\n",
            "\n",
            "You can run `openai migrate` to automatically upgrade your codebase to use the 1.0.0 interface. \n",
            "\n",
            "Alternatively, you can pin your installation to the old version, e.g. `pip install openai==0.28`\n",
            "\n",
            "A detailed migration guide is available here: https://github.com/openai/openai-python/discussions/742\n",
            "\n",
            "You: exit\n",
            "ChatPy: Goodbye! Have a great day!\n"
          ]
        }
      ]
    }
  ]
}